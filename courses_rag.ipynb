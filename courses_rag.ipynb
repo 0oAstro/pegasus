{
 "cells": [
  {
   "cell_type": "code",
   "execution_count": null,
   "metadata": {},
   "outputs": [
    {
     "ename": "",
     "evalue": "",
     "output_type": "error",
     "traceback": [
      "\u001b[1;31mRunning cells with '.venv (Python 3.11.11)' requires the ipykernel package.\n",
      "\u001b[1;31mRun the following command to install 'ipykernel' into the Python environment. \n",
      "\u001b[1;31mCommand: '/Users/shaurya/Developer/projects/pegasus/.venv/bin/python -m pip install ipykernel -U --force-reinstall'"
     ]
    }
   ],
   "source": [
    "import json\n",
    "import faiss\n",
    "import numpy as np\n",
    "from sentence_transformers import SentenceTransformer"
   ]
  },
  {
   "cell_type": "code",
   "execution_count": null,
   "metadata": {},
   "outputs": [
    {
     "ename": "",
     "evalue": "",
     "output_type": "error",
     "traceback": [
      "\u001b[1;31mRunning cells with '.venv (Python 3.11.11)' requires the ipykernel package.\n",
      "\u001b[1;31mRun the following command to install 'ipykernel' into the Python environment. \n",
      "\u001b[1;31mCommand: '/Users/shaurya/Developer/projects/pegasus/.venv/bin/python -m pip install ipykernel -U --force-reinstall'"
     ]
    }
   ],
   "source": [
    "# Load the JSON data (for testing, load only the first 10 courses)\n",
    "with open('courses.json', 'r') as file:\n",
    "    courses = json.load(file)\n",
    "# Use only the first 10 courses\n",
    "courses_copy = courses.copy()\n",
    "del courses\n",
    "courses = {}\n",
    "i = 0\n",
    "for k, v in courses_copy.items():\n",
    "    courses[k] = v\n",
    "    i += 1\n",
    "    if i == 10:\n",
    "        break"
   ]
  },
  {
   "cell_type": "code",
   "execution_count": null,
   "metadata": {},
   "outputs": [
    {
     "ename": "",
     "evalue": "",
     "output_type": "error",
     "traceback": [
      "\u001b[1;31mRunning cells with '.venv (Python 3.11.11)' requires the ipykernel package.\n",
      "\u001b[1;31mRun the following command to install 'ipykernel' into the Python environment. \n",
      "\u001b[1;31mCommand: '/Users/shaurya/Developer/projects/pegasus/.venv/bin/python -m pip install ipykernel -U --force-reinstall'"
     ]
    }
   ],
   "source": [
    "# Initialize model for embedding generation\n",
    "model = SentenceTransformer('all-MiniLM-L6-v2')  # You can change this to other models as well"
   ]
  },
  {
   "cell_type": "code",
   "execution_count": null,
   "metadata": {},
   "outputs": [
    {
     "ename": "",
     "evalue": "",
     "output_type": "error",
     "traceback": [
      "\u001b[1;31mRunning cells with '.venv (Python 3.11.11)' requires the ipykernel package.\n",
      "\u001b[1;31mRun the following command to install 'ipykernel' into the Python environment. \n",
      "\u001b[1;31mCommand: '/Users/shaurya/Developer/projects/pegasus/.venv/bin/python -m pip install ipykernel -U --force-reinstall'"
     ]
    }
   ],
   "source": [
    "# Extract course descriptions (assuming 'description' is the key)\n",
    "course_descriptions = [course['data'] for course in courses]"
   ]
  },
  {
   "cell_type": "code",
   "execution_count": null,
   "metadata": {},
   "outputs": [
    {
     "ename": "",
     "evalue": "",
     "output_type": "error",
     "traceback": [
      "\u001b[1;31mRunning cells with '.venv (Python 3.11.11)' requires the ipykernel package.\n",
      "\u001b[1;31mRun the following command to install 'ipykernel' into the Python environment. \n",
      "\u001b[1;31mCommand: '/Users/shaurya/Developer/projects/pegasus/.venv/bin/python -m pip install ipykernel -U --force-reinstall'"
     ]
    }
   ],
   "source": [
    "# Convert embeddings to numpy array (Faiss requires numpy arrays)\n",
    "embeddings = np.array(embeddings).astype(np.float32)\n",
    "\n",
    "# Initialize Faiss index\n",
    "index = faiss.IndexFlatL2(embeddings.shape[1])  # L2 distance for similarity search\n",
    "\n",
    "# Add embeddings to the index\n",
    "index.add(embeddings)\n",
    "\n",
    "# Function to query the index\n",
    "def query_courses(query, top_k=5):\n",
    "    # Generate the embedding for the query\n",
    "    query_embedding = model.encode([query]).astype(np.float32)\n",
    "    \n",
    "    # Perform the search in the Faiss index\n",
    "    distances, indices = index.search(query_embedding, k=top_k)\n",
    "    \n",
    "    # Output the search results\n",
    "    print(f\"Top {top_k} courses for query: '{query}':\")\n",
    "    for i in range(top_k):\n",
    "        course_id = courses[indices[0][i]]['course_id']\n",
    "        course_name = courses[indices[0][i]]['course_name']  # Assuming 'course_name' exists\n",
    "        distance = distances[0][i]\n",
    "        print(f\"Course ID: {course_id}, Course Name: {course_name}, Distance: {distance}\")\n",
    "\n",
    "# Example usage: Query for courses related to 'machine learning'\n",
    "query_courses(\"machine learning\", top_k=5)"
   ]
  },
  {
   "cell_type": "code",
   "execution_count": null,
   "metadata": {},
   "outputs": [],
   "source": []
  }
 ],
 "metadata": {
  "kernelspec": {
   "display_name": ".venv",
   "language": "python",
   "name": "python3"
  },
  "language_info": {
   "name": "python",
   "version": "3.11.11"
  }
 },
 "nbformat": 4,
 "nbformat_minor": 2
}
